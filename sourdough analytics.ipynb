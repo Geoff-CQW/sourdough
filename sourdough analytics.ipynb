{
 "cells": [
  {
   "cell_type": "code",
   "execution_count": 1,
   "metadata": {},
   "outputs": [],
   "source": [
    "import pandas as pd"
   ]
  },
  {
   "cell_type": "markdown",
   "metadata": {},
   "source": [
    "I'm *interested* in improving the taste of my bread (who doesn't) and since the microbial communities are what influences the flavors, I'll have to try and push my starter towards having microbes that are associated with the flavors that I want. As a home baker, I naturally don't have access to PCR machines or sequencers, so I won't be doing any amplicon studies to characterise the microbial communities in my starter or trying to culture specific microbes. However, what I can adjust are things that all (or most) homes have, fridges, containers, flour type etc.\n",
    "\n",
    "The biggest influence on the microbial community in a sourdough starter is the flour used and indeed the paper by [Landis et al](https://doi.org/10.7554/eLife.61644) whose data I'm using, did not find any other strong external factors (see also: [<sup>1</sup>](https://doi.org/10.1016/j.ijfoodmicro.2016.05.022), [<sup>2</sup>](https://doi.org/10.1016/j.ijfoodmicro.2018.08.009)) that can influence microbial composition of the sourdough starter. There are, however, **some** effects that I can try to mimic on my end. Different flours would give me the strongest effects but I don't want to end up with 10 different types of flour in my pantry and not having any use for 9 of them, not to mention spending a money in the process.\n",
    "\n",
    "And here's where the data analysis comes in, I'm going to try and identify the microbes that are associated with green apple notes and see if I can find the factors to encourage the growth of these microbes."
   ]
  },
  {
   "cell_type": "code",
   "execution_count": 2,
   "metadata": {},
   "outputs": [],
   "source": [
    "meta = pd.read_csv(\"metadata500_starters.csv\")"
   ]
  },
  {
   "cell_type": "code",
   "execution_count": 14,
   "metadata": {},
   "outputs": [
    {
     "data": {
      "text/plain": [
       "array(['sourdough_starter'], dtype=object)"
      ]
     },
     "execution_count": 14,
     "metadata": {},
     "output_type": "execute_result"
    }
   ],
   "source": []
  }
 ],
 "metadata": {
  "kernelspec": {
   "display_name": "python",
   "language": "python",
   "name": "python3"
  },
  "language_info": {
   "codemirror_mode": {
    "name": "ipython",
    "version": 3
   },
   "file_extension": ".py",
   "mimetype": "text/x-python",
   "name": "python",
   "nbconvert_exporter": "python",
   "pygments_lexer": "ipython3",
   "version": "3.11.3"
  }
 },
 "nbformat": 4,
 "nbformat_minor": 2
}
